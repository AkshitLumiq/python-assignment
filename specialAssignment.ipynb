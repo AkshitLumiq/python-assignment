{
 "cells": [
  {
   "cell_type": "code",
   "execution_count": 1,
   "metadata": {},
   "outputs": [],
   "source": [
    "from pysr import PySRRegressor\n",
    "import csv\n",
    "\n",
    "l = []\n",
    "with open('Python_assignmentSpecial.csv', newline='') as f:\n",
    "  reader = csv.reader(f)\n",
    "  l = list(reader)\n",
    "\n",
    "\n",
    "model = PySRRegressor(\n",
    "    niterations=40,  # < Increase me for better results\n",
    "    binary_operators=[\"+\", \"*\", \"-\", \"/\"],\n",
    "    unary_operators=[\n",
    "        \"cos\",\n",
    "        \"exp\",\n",
    "        \"sin\",\n",
    "        \"inv(x) = 1/x\",\n",
    "        \"log\",\n",
    "        \"tan\",\n",
    "        # ^ Custom operator (julia syntax)\n",
    "    ],\n",
    "    extra_sympy_mappings={\"inv\": lambda x: 1 / x},\n",
    "    # ^ Define operator for SymPy as well\n",
    "    loss=\"loss(prediction, target) = (prediction - target)^2\",\n",
    "    # ^ Custom loss function (julia syntax)\n",
    ")"
   ]
  },
  {
   "attachments": {},
   "cell_type": "markdown",
   "metadata": {},
   "source": [
    "A"
   ]
  },
  {
   "cell_type": "code",
   "execution_count": 12,
   "metadata": {},
   "outputs": [
    {
     "name": "stderr",
     "output_type": "stream",
     "text": [
      "c:\\Users\\Akshit\\AppData\\Local\\Programs\\Python\\Python310\\lib\\site-packages\\pysr\\sr.py:1762: UserWarning: The discovered expressions are being reset. Please set `warm_start=True` if you wish to continue to start a search where you left off.\n",
      "  warnings.warn(\n",
      "c:\\Users\\Akshit\\AppData\\Local\\Programs\\Python\\Python310\\lib\\site-packages\\pysr\\sr.py:1289: UserWarning: Note: it looks like you are running in Jupyter. The progress bar will be turned off.\n",
      "  warnings.warn(\n"
     ]
    },
    {
     "name": "stdout",
     "output_type": "stream",
     "text": [
      "PySRRegressor.equations_ = [\n",
      "\t   pick     score                                           equation  \\\n",
      "\t0        0.000000                                          1.0639213   \n",
      "\t1        0.006863                           cos(cos(x0 + 0.7826619))   \n",
      "\t2        3.569464                       tan(cos(cos(0.784873 + x0)))   \n",
      "\t3        0.825014                inv(tan(cos(sin(-2.3558142 + x0))))   \n",
      "\t4        1.353316        (tan(cos(sin(x0 - 0.7704452))) * 1.0547869)   \n",
      "\t5        0.951410     tan(cos(sin(x0 - cos(0.6734154))) * 1.0265973)   \n",
      "\t6        0.024130  (inv(tan(cos(sin(sin(cos(tan(-0.41743347))) + ...   \n",
      "\t7  >>>>  0.747446  (tan(cos(cos(inv(inv(x0)) + cos(0.6682861)) / ...   \n",
      "\t8        0.000287  (tan(cos(cos(inv(inv(x0)) + (cos(0.6682861) / ...   \n",
      "\t9        0.000321  (tan(cos(cos(inv(inv(x0)) + sin(cos(exp(sin(-0...   \n",
      "\t\n",
      "\t       loss  complexity  \n",
      "\t0  0.135693           1  \n",
      "\t1  0.132018           5  \n",
      "\t2  0.003719           6  \n",
      "\t3  0.001630           7  \n",
      "\t4  0.000421           8  \n",
      "\t5  0.000163           9  \n",
      "\t6  0.000151          12  \n",
      "\t7  0.000072          13  \n",
      "\t8  0.000072          17  \n",
      "\t9  0.000072          19  \n",
      "]\n"
     ]
    }
   ],
   "source": [
    "y=[]\n",
    "X=[]\n",
    "\n",
    "for i in l:\n",
    "  try:\n",
    "    y.append(float(i[0]))\n",
    "  except ValueError:\n",
    "    pass\n",
    "\n",
    "for i in range(1, 201):\n",
    "    X.append([i])\n",
    "\n",
    "model.fit(X, y)\n",
    "\n",
    "print(model)"
   ]
  },
  {
   "cell_type": "code",
   "execution_count": 13,
   "metadata": {},
   "outputs": [
    {
     "name": "stdout",
     "output_type": "stream",
     "text": [
      "0.999462587598533\n"
     ]
    }
   ],
   "source": [
    "arr = model.predict(X)\n",
    "from sklearn.metrics import r2_score\n",
    "r2 = r2_score(arr, y)\n",
    "print(r2)"
   ]
  },
  {
   "attachments": {},
   "cell_type": "markdown",
   "metadata": {},
   "source": [
    "B"
   ]
  },
  {
   "cell_type": "code",
   "execution_count": 10,
   "metadata": {},
   "outputs": [
    {
     "name": "stderr",
     "output_type": "stream",
     "text": [
      "c:\\Users\\Akshit\\AppData\\Local\\Programs\\Python\\Python310\\lib\\site-packages\\pysr\\sr.py:1762: UserWarning: The discovered expressions are being reset. Please set `warm_start=True` if you wish to continue to start a search where you left off.\n",
      "  warnings.warn(\n",
      "c:\\Users\\Akshit\\AppData\\Local\\Programs\\Python\\Python310\\lib\\site-packages\\pysr\\sr.py:1289: UserWarning: Note: it looks like you are running in Jupyter. The progress bar will be turned off.\n",
      "  warnings.warn(\n"
     ]
    },
    {
     "name": "stdout",
     "output_type": "stream",
     "text": [
      "PySRRegressor.equations_ = [\n",
      "\t   pick     score                         equation          loss  complexity\n",
      "\t0        0.000000                      1.2960563e9  2.974439e+18           1\n",
      "\t1        0.469319               (1.6119913e7 * x0)  1.163483e+18           3\n",
      "\t2        0.559634          ((114855.41 * x0) * x0)  3.798987e+17           5\n",
      "\t3        0.826697    (((701.7394 * x0) * x0) * x0)  7.271227e+16           7\n",
      "\t4  >>>>       inf  (x0 * (((x0 * 4.0) * x0) * x0))  0.000000e+00           9\n",
      "]\n"
     ]
    }
   ],
   "source": [
    "y=[]\n",
    "\n",
    "for i in l:\n",
    "    try:\n",
    "        y.append(float(i[1]))\n",
    "    except ValueError:\n",
    "        pass\n",
    "\n",
    "model.fit(X, y)\n",
    "print(model)"
   ]
  },
  {
   "cell_type": "code",
   "execution_count": 11,
   "metadata": {},
   "outputs": [
    {
     "name": "stdout",
     "output_type": "stream",
     "text": [
      "1.0\n"
     ]
    }
   ],
   "source": [
    "arr = model.predict(X)\n",
    "from sklearn.metrics import r2_score\n",
    "r2 = r2_score(arr, y)\n",
    "print(r2)"
   ]
  },
  {
   "attachments": {},
   "cell_type": "markdown",
   "metadata": {},
   "source": [
    "C"
   ]
  },
  {
   "cell_type": "code",
   "execution_count": 6,
   "metadata": {},
   "outputs": [
    {
     "name": "stderr",
     "output_type": "stream",
     "text": [
      "c:\\Users\\Akshit\\AppData\\Local\\Programs\\Python\\Python310\\lib\\site-packages\\pysr\\sr.py:1762: UserWarning: The discovered expressions are being reset. Please set `warm_start=True` if you wish to continue to start a search where you left off.\n",
      "  warnings.warn(\n",
      "c:\\Users\\Akshit\\AppData\\Local\\Programs\\Python\\Python310\\lib\\site-packages\\pysr\\sr.py:1289: UserWarning: Note: it looks like you are running in Jupyter. The progress bar will be turned off.\n",
      "  warnings.warn(\n"
     ]
    },
    {
     "name": "stdout",
     "output_type": "stream",
     "text": [
      "PySRRegressor.equations_ = [\n",
      "\t    pick     score                                           equation  \\\n",
      "\t0         0.000000                                          206.96767   \n",
      "\t1         1.098816                                 (x0 - -106.466995)   \n",
      "\t2         0.808797                                (log(x0) * 48.1232)   \n",
      "\t3         0.049589                ((log(x0) * 51.649662) - 15.961037)   \n",
      "\t4         0.043864                    (log(inv(x0) + x0) * 48.123276)   \n",
      "\t5         1.178977        ((log(x0) * 42.046818) + (0.24603474 * x0))   \n",
      "\t6         1.654121  ((log(2.8403935 + x0) * 40.471573) + (0.294326...   \n",
      "\t7         0.000205  ((log(2.8403935 + x0) * 40.471573) + (0.294326...   \n",
      "\t8         0.079004  ((log(x0 + exp(1.1025597)) * 40.471573) + (0.2...   \n",
      "\t9   >>>>  0.291772  (((log(2.8403935 + x0) * 40.471573) + (0.29432...   \n",
      "\t10        0.017686  ((log(x0 + inv(0.37455225)) * 40.471573) + ((0...   \n",
      "\t11        0.062625  (((log((x0 + 1.4373735) - -1.3839152) * 40.471...   \n",
      "\t\n",
      "\t           loss  complexity  \n",
      "\t0   2531.629400           1  \n",
      "\t1    281.177760           3  \n",
      "\t2    125.234710           4  \n",
      "\t3    113.410300           6  \n",
      "\t4    108.543190           7  \n",
      "\t5     33.387142           8  \n",
      "\t6      1.221316          10  \n",
      "\t7      1.220816          12  \n",
      "\t8      1.042385          14  \n",
      "\t9      0.778598          15  \n",
      "\t10     0.764948          16  \n",
      "\t11     0.718512          17  \n",
      "]\n"
     ]
    }
   ],
   "source": [
    "y=[]\n",
    "\n",
    "for i in l:\n",
    "    try:\n",
    "        y.append(float(i[2]))\n",
    "    except ValueError:\n",
    "        pass\n",
    "    \n",
    "model.fit(X, y)\n",
    "print(model)"
   ]
  },
  {
   "cell_type": "code",
   "execution_count": 7,
   "metadata": {},
   "outputs": [
    {
     "name": "stdout",
     "output_type": "stream",
     "text": [
      "0.9996909779677186\n"
     ]
    }
   ],
   "source": [
    "arr = model.predict(X)\n",
    "from sklearn.metrics import r2_score\n",
    "r2 = r2_score(arr, y)\n",
    "print(r2)"
   ]
  },
  {
   "attachments": {},
   "cell_type": "markdown",
   "metadata": {},
   "source": [
    "D"
   ]
  },
  {
   "cell_type": "code",
   "execution_count": 8,
   "metadata": {},
   "outputs": [
    {
     "name": "stderr",
     "output_type": "stream",
     "text": [
      "c:\\Users\\Akshit\\AppData\\Local\\Programs\\Python\\Python310\\lib\\site-packages\\pysr\\sr.py:1762: UserWarning: The discovered expressions are being reset. Please set `warm_start=True` if you wish to continue to start a search where you left off.\n",
      "  warnings.warn(\n",
      "c:\\Users\\Akshit\\AppData\\Local\\Programs\\Python\\Python310\\lib\\site-packages\\pysr\\sr.py:1289: UserWarning: Note: it looks like you are running in Jupyter. The progress bar will be turned off.\n",
      "  warnings.warn(\n"
     ]
    },
    {
     "name": "stdout",
     "output_type": "stream",
     "text": [
      "PySRRegressor.equations_ = [\n",
      "\t   pick      score                                           equation  \\\n",
      "\t0         0.000000                                        6.442102e-7   \n",
      "\t1         0.000361                                 (-0.21005835 / x0)   \n",
      "\t2         7.381160                              cos(x0 / -0.12732746)   \n",
      "\t3        13.649845                          cos(x0 / sin(-0.6901072))   \n",
      "\t4         0.689240  (cos(x0 / sin(-0.6901077)) * cos(tan(sin(x0 / ...   \n",
      "\t5  >>>>   3.948290  (cos(x0 / sin(-0.6901077)) * cos(sin(x0 / sin(...   \n",
      "\t\n",
      "\t           loss  complexity  \n",
      "\t0  4.999999e-01           1  \n",
      "\t1  4.996389e-01           3  \n",
      "\t2  3.112142e-04           4  \n",
      "\t3  3.672883e-10           5  \n",
      "\t4  1.480272e-12          13  \n",
      "\t5  5.506815e-16          15  \n",
      "]\n"
     ]
    }
   ],
   "source": [
    "y=[]\n",
    "\n",
    "for i in l:\n",
    "    try:\n",
    "        y.append(float(i[3]))\n",
    "    except ValueError:\n",
    "        pass\n",
    "\n",
    "model.fit(X, y)\n",
    "print(model)"
   ]
  },
  {
   "cell_type": "code",
   "execution_count": 9,
   "metadata": {},
   "outputs": [
    {
     "name": "stdout",
     "output_type": "stream",
     "text": [
      "0.9999999999999982\n"
     ]
    }
   ],
   "source": [
    "arr = model.predict(X)\n",
    "from sklearn.metrics import r2_score\n",
    "r2 = r2_score(arr, y)\n",
    "print(r2)"
   ]
  }
 ],
 "metadata": {
  "kernelspec": {
   "display_name": "Python 3",
   "language": "python",
   "name": "python3"
  },
  "language_info": {
   "codemirror_mode": {
    "name": "ipython",
    "version": 3
   },
   "file_extension": ".py",
   "mimetype": "text/x-python",
   "name": "python",
   "nbconvert_exporter": "python",
   "pygments_lexer": "ipython3",
   "version": "3.10.2"
  },
  "orig_nbformat": 4
 },
 "nbformat": 4,
 "nbformat_minor": 2
}
